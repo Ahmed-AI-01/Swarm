{
 "cells": [
  {
   "cell_type": "markdown",
   "metadata": {},
   "source": [
    "# 1. Install Prerequisites"
   ]
  },
  {
   "cell_type": "code",
   "execution_count": null,
   "metadata": {
    "vscode": {
     "languageId": "plaintext"
    }
   },
   "outputs": [],
   "source": [
    "# Update and install dependencies\n",
    "sudo apt update\n",
    "sudo apt install -y git python3 python3-pip python3-setuptools python3-wheel\n",
    "sudo apt install -y build-essential ccache g++ gawk cmake"
   ]
  },
  {
   "cell_type": "code",
   "execution_count": null,
   "metadata": {
    "vscode": {
     "languageId": "plaintext"
    }
   },
   "outputs": [],
   "source": [
    "# Install MAVProxy for SITL communication\n",
    "pip3 install MAVProxy"
   ]
  },
  {
   "cell_type": "markdown",
   "metadata": {},
   "source": [
    "# 2. Clone ArduPilot Repository"
   ]
  },
  {
   "cell_type": "markdown",
   "metadata": {},
   "source": [
    "git clone https://github.com/ArduPilot/ardupilot.git\n",
    "cd ardupilot"
   ]
  },
  {
   "cell_type": "markdown",
   "metadata": {},
   "source": [
    "# 3. Setup Environment for SITL"
   ]
  },
  {
   "cell_type": "code",
   "execution_count": null,
   "metadata": {
    "vscode": {
     "languageId": "plaintext"
    }
   },
   "outputs": [],
   "source": [
    "echo \"export PATH=$PATH:$HOME/ardupilot/Tools/autotest\" >> ~/.bashrc\n",
    "echo \"export PATH=$PATH:$HOME/ardupilot/Tools/autotest:$HOME/ardupilot/Tools/autotest/bin\" >> ~/.bashrc\n",
    "source ~/.bashrc"
   ]
  },
  {
   "cell_type": "code",
   "execution_count": null,
   "metadata": {
    "vscode": {
     "languageId": "plaintext"
    }
   },
   "outputs": [],
   "source": [
    "Tools/environment_install/install-prereqs-ubuntu.sh -y\n",
    ". ~/.profile"
   ]
  },
  {
   "cell_type": "markdown",
   "metadata": {},
   "source": [
    "# 4. Build SITL"
   ]
  },
  {
   "cell_type": "code",
   "execution_count": null,
   "metadata": {
    "vscode": {
     "languageId": "plaintext"
    }
   },
   "outputs": [],
   "source": [
    "cd ardupilot/ArduCopter"
   ]
  },
  {
   "cell_type": "code",
   "execution_count": null,
   "metadata": {
    "vscode": {
     "languageId": "plaintext"
    }
   },
   "outputs": [],
   "source": [
    "./waf configure --board sitl"
   ]
  },
  {
   "cell_type": "code",
   "execution_count": null,
   "metadata": {
    "vscode": {
     "languageId": "plaintext"
    }
   },
   "outputs": [],
   "source": [
    "./waf copter"
   ]
  },
  {
   "cell_type": "markdown",
   "metadata": {},
   "source": [
    "# 5. Run SITL"
   ]
  },
  {
   "cell_type": "code",
   "execution_count": null,
   "metadata": {
    "vscode": {
     "languageId": "plaintext"
    }
   },
   "outputs": [],
   "source": [
    "sim_vehicle.py -v ArduCopter --console --map"
   ]
  },
  {
   "cell_type": "markdown",
   "metadata": {},
   "source": [
    "# 6. SITL Control Commands for Drone"
   ]
  },
  {
   "cell_type": "markdown",
   "metadata": {},
   "source": [
    "Once SITL is running, you can use the following commands in the MAVProxy console:"
   ]
  },
  {
   "cell_type": "markdown",
   "metadata": {},
   "source": [
    "## Arm the Drone:"
   ]
  },
  {
   "cell_type": "code",
   "execution_count": null,
   "metadata": {
    "vscode": {
     "languageId": "plaintext"
    }
   },
   "outputs": [],
   "source": [
    "arm throttle"
   ]
  },
  {
   "cell_type": "markdown",
   "metadata": {},
   "source": [
    "## Takeoff:"
   ]
  },
  {
   "cell_type": "code",
   "execution_count": null,
   "metadata": {
    "vscode": {
     "languageId": "plaintext"
    }
   },
   "outputs": [],
   "source": [
    "mode guided\n",
    "takeoff <altitude>"
   ]
  },
  {
   "cell_type": "markdown",
   "metadata": {},
   "source": [
    "## Set Mode (e.g., Loiter, RTL, etc.):"
   ]
  },
  {
   "cell_type": "markdown",
   "metadata": {},
   "source": [
    "1. **Stabilize**\n",
    "   - **Description**: This mode allows manual control of the drone, stabilizing its roll and pitch, but without any automatic altitude control.\n",
    "   - **Use Case**: Ideal for manual flying practice or quick recovery during autonomous missions.\n",
    "\n",
    "2. **Altitude Hold (AltHold)**\n",
    "   - **Description**: Maintains a steady altitude, allowing manual control of roll, pitch, and yaw.\n",
    "   - **Use Case**: Useful for stable hovering or making manual adjustments while maintaining altitude.\n",
    "\n",
    "3. **Loiter**\n",
    "   - **Description**: Holds position with GPS assistance, allowing the drone to hover at a fixed point.\n",
    "   - **Use Case**: Ideal for capturing steady aerial footage or pausing during a mission without landing.\n",
    "\n",
    "4. **Return to Launch (RTL)**\n",
    "   - **Description**: Automatically returns the drone to its launch point and lands.\n",
    "   - **Use Case**: Safety measure if the drone loses connection or if you want it to return home automatically.\n",
    "\n",
    "5. **Land**\n",
    "   - **Description**: Descends the drone and lands it at its current position.\n",
    "   - **Use Case**: For quick landing or ending the mission at the current location.\n",
    "\n",
    "6. **Guided**\n",
    "   - **Description**: Allows you to control the drone's movements by sending waypoint or velocity commands.\n",
    "   - **Use Case**: Used in missions controlled by companion computers or external commands, such as survey missions.\n",
    "\n",
    "7. **Auto**\n",
    "   - **Description**: Follows a predefined mission with waypoints loaded into the drone.\n",
    "   - **Use Case**: Primarily for fully autonomous missions, such as surveying or mapping.\n",
    "\n",
    "8. **Position (PosHold)**\n",
    "   - **Description**: Holds position similarly to Loiter but allows small corrections without requiring throttle adjustments.\n",
    "   - **Use Case**: For hovering in a fixed location, similar to Loiter, but more responsive to manual input.\n",
    "\n",
    "9. **Circle**\n",
    "   - **Description**: Flies the drone in a circle around a specific point.\n",
    "   - **Use Case**: Useful for capturing 360° video footage or for orbiting an object of interest.\n",
    "\n",
    "10. **Acro**\n",
    "    - **Description**: Full manual control, typically without stabilization; requires high skill levels to operate safely.\n",
    "    - **Use Case**: Typically used for acrobatic flying and by experienced pilots who want complete control.\n",
    "\n",
    "11. **Drift**\n",
    "    - **Description**: Combines stabilize and acro modes, where forward pitch translates to forward motion, and yaw controls turns.\n",
    "    - **Use Case**: Provides a smoother flying experience, especially for aerial photography.\n",
    "\n",
    "12. **Sport**\n",
    "    - **Description**: A more aggressive stabilize mode with faster responses and no altitude hold.\n",
    "    - **Use Case**: For high-speed manual control, used by pilots for fast, responsive flying.\n",
    "\n",
    "13. **Brake**\n",
    "    - **Description**: Halts the drone immediately and holds its position with GPS.\n",
    "    - **Use Case**: For quickly stopping the drone, especially in emergency situations.\n",
    "\n",
    "14. **Follow Me**\n",
    "    - **Description**: Follows a ground control station (e.g., a smartphone or laptop) based on GPS coordinates.\n",
    "    - **Use Case**: Popular for personal use cases, such as filming or tracking a moving subject.\n",
    "\n",
    "15. **Simple and Super Simple Modes**\n",
    "    - **Description**: Orientation-independent modes, allowing the drone to move based on control stick position relative to the launch direction.\n",
    "    - **Use Case**: Great for beginners, as it simplifies the controls regardless of drone orientation."
   ]
  },
  {
   "cell_type": "code",
   "execution_count": null,
   "metadata": {
    "vscode": {
     "languageId": "plaintext"
    }
   },
   "outputs": [],
   "source": [
    "mode <mode_name>"
   ]
  },
  {
   "cell_type": "markdown",
   "metadata": {},
   "source": [
    "## Move to Specified Location (GUIDED mode):"
   ]
  },
  {
   "cell_type": "code",
   "execution_count": null,
   "metadata": {
    "vscode": {
     "languageId": "plaintext"
    }
   },
   "outputs": [],
   "source": [
    "goto <latitude> <longitude> <altitude>"
   ]
  },
  {
   "cell_type": "markdown",
   "metadata": {},
   "source": [
    "## Return to Launch (RTL):"
   ]
  },
  {
   "cell_type": "code",
   "execution_count": null,
   "metadata": {
    "vscode": {
     "languageId": "plaintext"
    }
   },
   "outputs": [],
   "source": [
    "mode rtl"
   ]
  },
  {
   "cell_type": "markdown",
   "metadata": {},
   "source": [
    "## Land:"
   ]
  },
  {
   "cell_type": "code",
   "execution_count": null,
   "metadata": {
    "vscode": {
     "languageId": "plaintext"
    }
   },
   "outputs": [],
   "source": [
    "mode land"
   ]
  },
  {
   "cell_type": "markdown",
   "metadata": {},
   "source": [
    "## Disarm the Drone:"
   ]
  },
  {
   "cell_type": "code",
   "execution_count": null,
   "metadata": {
    "vscode": {
     "languageId": "plaintext"
    }
   },
   "outputs": [],
   "source": [
    "disarm"
   ]
  },
  {
   "cell_type": "markdown",
   "metadata": {},
   "source": [
    "# 7. Exit SITL "
   ]
  },
  {
   "cell_type": "code",
   "execution_count": null,
   "metadata": {
    "vscode": {
     "languageId": "plaintext"
    }
   },
   "outputs": [],
   "source": [
    "exit"
   ]
  }
 ],
 "metadata": {
  "language_info": {
   "name": "python"
  }
 },
 "nbformat": 4,
 "nbformat_minor": 2
}
